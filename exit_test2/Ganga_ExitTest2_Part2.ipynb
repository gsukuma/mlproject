{
  "nbformat": 4,
  "nbformat_minor": 0,
  "metadata": {
    "colab": {
      "provenance": []
    },
    "kernelspec": {
      "name": "python3",
      "display_name": "Python 3"
    },
    "language_info": {
      "name": "python"
    }
  },
  "cells": [
    {
      "cell_type": "markdown",
      "source": [
        "**Load the saved model from previous step**"
      ],
      "metadata": {
        "id": "dgL-SIPnrIPD"
      }
    },
    {
      "cell_type": "code",
      "execution_count": 1,
      "metadata": {
        "colab": {
          "base_uri": "https://localhost:8080/"
        },
        "id": "dA78SP0YpqKv",
        "outputId": "89c55e96-1e14-49c5-a37c-ad2cf41e7bb2"
      },
      "outputs": [
        {
          "output_type": "stream",
          "name": "stdout",
          "text": [
            "Mounted at /content/drive\n"
          ]
        }
      ],
      "source": [
        "from google.colab import drive\n",
        "drive.mount('/content/drive')"
      ]
    },
    {
      "cell_type": "code",
      "source": [
        "from keras.models import load_model\n",
        "import progressbar"
      ],
      "metadata": {
        "id": "YYvyY06Qq7oh"
      },
      "execution_count": 2,
      "outputs": []
    },
    {
      "cell_type": "code",
      "source": [
        "model = load_model('/content/drive/MyDrive/AI_ML_ExitTest2/FaceRecognition_model2.h5')"
      ],
      "metadata": {
        "id": "3OuaSzmoq20_"
      },
      "execution_count": 3,
      "outputs": []
    },
    {
      "cell_type": "markdown",
      "source": [
        "Read the video and convert to frames"
      ],
      "metadata": {
        "id": "OqYJyjqjrPX1"
      }
    },
    {
      "cell_type": "code",
      "source": [
        "import cv2\n",
        "import os "
      ],
      "metadata": {
        "id": "IyXgSe4WrPug"
      },
      "execution_count": null,
      "outputs": []
    }
  ]
}