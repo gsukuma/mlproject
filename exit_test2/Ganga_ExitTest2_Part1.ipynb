{
  "nbformat": 4,
  "nbformat_minor": 0,
  "metadata": {
    "colab": {
      "provenance": []
    },
    "kernelspec": {
      "name": "python3",
      "display_name": "Python 3"
    },
    "language_info": {
      "name": "python"
    },
    "accelerator": "GPU",
    "gpuClass": "standard"
  },
  "cells": [
    {
      "cell_type": "markdown",
      "source": [
        "Load dataset into Python"
      ],
      "metadata": {
        "id": "DH_kSWmo13Sk"
      }
    },
    {
      "cell_type": "code",
      "execution_count": 1,
      "metadata": {
        "colab": {
          "base_uri": "https://localhost:8080/"
        },
        "id": "NjYlgHZTzLtb",
        "outputId": "c9aafb5f-fe90-4b67-ee9b-bae744c96856"
      },
      "outputs": [
        {
          "output_type": "stream",
          "name": "stdout",
          "text": [
            "Cloning into 'mlproject'...\n",
            "remote: Enumerating objects: 35122, done.\u001b[K\n",
            "remote: Counting objects: 100% (1067/1067), done.\u001b[K\n",
            "remote: Compressing objects: 100% (1065/1065), done.\u001b[K\n",
            "remote: Total 35122 (delta 1), reused 1066 (delta 0), pack-reused 34055\u001b[K\n",
            "Receiving objects: 100% (35122/35122), 195.91 MiB | 16.89 MiB/s, done.\n",
            "Resolving deltas: 100% (5/5), done.\n",
            "Updating files: 100% (36985/36985), done.\n"
          ]
        }
      ],
      "source": [
        "!git clone https://github.com/gsukuma/mlproject.git"
      ]
    },
    {
      "cell_type": "markdown",
      "source": [
        "Load necessary libraries"
      ],
      "metadata": {
        "id": "YxT6LNr3153N"
      }
    },
    {
      "cell_type": "code",
      "source": [
        "import numpy as np\n",
        "from imutils import paths\n",
        "import os\n",
        "import matplotlib.pyplot as plt"
      ],
      "metadata": {
        "id": "87XTJAIK6Twe"
      },
      "execution_count": 2,
      "outputs": []
    },
    {
      "cell_type": "code",
      "source": [
        "#Load image path\n",
        "imagePaths = list(paths.list_images('/content/mlproject/dataset_test/archive/images/train'))"
      ],
      "metadata": {
        "id": "0BlLdG176VMl"
      },
      "execution_count": 3,
      "outputs": []
    },
    {
      "cell_type": "code",
      "source": [
        "imagePaths[0]"
      ],
      "metadata": {
        "colab": {
          "base_uri": "https://localhost:8080/",
          "height": 35
        },
        "id": "0NH1L0XD6cWM",
        "outputId": "b0953b29-7309-41a6-e0c8-d517c0946181"
      },
      "execution_count": 4,
      "outputs": [
        {
          "output_type": "execute_result",
          "data": {
            "text/plain": [
              "'/content/mlproject/dataset_test/archive/images/train/disgust/6145.jpg'"
            ],
            "application/vnd.google.colaboratory.intrinsic+json": {
              "type": "string"
            }
          },
          "metadata": {},
          "execution_count": 4
        }
      ]
    },
    {
      "cell_type": "code",
      "source": [
        "label = imagePaths[0].split(os.path.sep)[-2]\n",
        "label"
      ],
      "metadata": {
        "colab": {
          "base_uri": "https://localhost:8080/",
          "height": 35
        },
        "id": "DW0gDsNY6meG",
        "outputId": "fcfe1e79-fb8e-4746-cd25-8106d04e340a"
      },
      "execution_count": 5,
      "outputs": [
        {
          "output_type": "execute_result",
          "data": {
            "text/plain": [
              "'disgust'"
            ],
            "application/vnd.google.colaboratory.intrinsic+json": {
              "type": "string"
            }
          },
          "metadata": {},
          "execution_count": 5
        }
      ]
    },
    {
      "cell_type": "code",
      "source": [
        "data = []\n",
        "labels = []\n",
        "IMG_SIZE = 48\n",
        "\n",
        "CHANNELS = 3 \n",
        "\n",
        "for imagePath in imagePaths:\n",
        "  label = imagePath.split(os.path.sep)[-2]\n",
        "  image = load_img(imagePath, target_size=(IMG_SIZE, IMG_SIZE))\n",
        "  image = img_to_array(image)\n",
        "  image = image/255\n",
        "\n",
        "  data.append(image)\n",
        "  labels.append(label)\n",
        "\n",
        "\n",
        "data = np.array(data, dtype=\"float32\")\n",
        "labels = np.array(labels)"
      ],
      "metadata": {
        "id": "GwhoH1WTES3b"
      },
      "execution_count": 13,
      "outputs": []
    },
    {
      "cell_type": "code",
      "source": [
        "data.shape"
      ],
      "metadata": {
        "colab": {
          "base_uri": "https://localhost:8080/"
        },
        "id": "mQtZjACqFma0",
        "outputId": "d38d338f-e41b-4c10-e95b-3f286ed70653"
      },
      "execution_count": 21,
      "outputs": [
        {
          "output_type": "execute_result",
          "data": {
            "text/plain": [
              "(28821, 48, 48, 3)"
            ]
          },
          "metadata": {},
          "execution_count": 21
        }
      ]
    },
    {
      "cell_type": "code",
      "source": [
        "labels.shape"
      ],
      "metadata": {
        "colab": {
          "base_uri": "https://localhost:8080/"
        },
        "id": "opS2Ks43Fn-o",
        "outputId": "8e7d614b-6cb8-4c52-ff83-c82b6af61a93"
      },
      "execution_count": 22,
      "outputs": [
        {
          "output_type": "execute_result",
          "data": {
            "text/plain": [
              "(28821,)"
            ]
          },
          "metadata": {},
          "execution_count": 22
        }
      ]
    },
    {
      "cell_type": "code",
      "source": [
        "#Load validation data\n",
        "imageValPaths = list(paths.list_images('/content/mlproject/dataset_test/archive/images/validation'))"
      ],
      "metadata": {
        "id": "NELSXtaBFvRz"
      },
      "execution_count": 16,
      "outputs": []
    },
    {
      "cell_type": "code",
      "source": [
        "valdata = []\n",
        "vallabels = []\n",
        "IMG_SIZE = 48\n",
        "\n",
        "CHANNELS = 3 \n",
        "\n",
        "for imagePath in imageValPaths:\n",
        "  vallabel = imagePath.split(os.path.sep)[-2]\n",
        "  image = load_img(imagePath, target_size=(IMG_SIZE, IMG_SIZE))\n",
        "  image = img_to_array(image)\n",
        "  image = image/255\n",
        "\n",
        "  valdata.append(image)\n",
        "  vallabels.append(vallabel)\n",
        "\n",
        "\n",
        "valdata = np.array(valdata, dtype=\"float32\")\n",
        "vallabels = np.array(vallabels)"
      ],
      "metadata": {
        "id": "7L3TVI5SHeUs"
      },
      "execution_count": 20,
      "outputs": []
    },
    {
      "cell_type": "code",
      "source": [
        "valdata.shape"
      ],
      "metadata": {
        "colab": {
          "base_uri": "https://localhost:8080/"
        },
        "id": "0NjbI4-6H1Ct",
        "outputId": "98d62bc3-26c6-4ab2-8e65-174ebf625551"
      },
      "execution_count": 23,
      "outputs": [
        {
          "output_type": "execute_result",
          "data": {
            "text/plain": [
              "(7066, 48, 48, 3)"
            ]
          },
          "metadata": {},
          "execution_count": 23
        }
      ]
    },
    {
      "cell_type": "code",
      "source": [
        "vallabels.shape"
      ],
      "metadata": {
        "colab": {
          "base_uri": "https://localhost:8080/"
        },
        "id": "dgwXfGWNH2qD",
        "outputId": "dc00d61d-44b9-42a9-a570-285de4c31297"
      },
      "execution_count": 24,
      "outputs": [
        {
          "output_type": "execute_result",
          "data": {
            "text/plain": [
              "(7066,)"
            ]
          },
          "metadata": {},
          "execution_count": 24
        }
      ]
    },
    {
      "cell_type": "code",
      "source": [
        "np. unique(labels, return_counts=True)"
      ],
      "metadata": {
        "colab": {
          "base_uri": "https://localhost:8080/"
        },
        "id": "MLMPC9SyIFaC",
        "outputId": "572212f3-19b6-4843-df01-6bf5b7211be3"
      },
      "execution_count": 25,
      "outputs": [
        {
          "output_type": "execute_result",
          "data": {
            "text/plain": [
              "(array(['angry', 'disgust', 'fear', 'happy', 'neutral', 'sad', 'surprise'],\n",
              "       dtype='<U8'), array([3993,  436, 4103, 7164, 4982, 4938, 3205]))"
            ]
          },
          "metadata": {},
          "execution_count": 25
        }
      ]
    },
    {
      "cell_type": "code",
      "source": [
        "np. unique(vallabels, return_counts=True)"
      ],
      "metadata": {
        "colab": {
          "base_uri": "https://localhost:8080/"
        },
        "id": "3dCRWof8IGHB",
        "outputId": "47512fa9-6c7a-4a2c-848f-137465ffd116"
      },
      "execution_count": 26,
      "outputs": [
        {
          "output_type": "execute_result",
          "data": {
            "text/plain": [
              "(array(['angry', 'disgust', 'fear', 'happy', 'neutral', 'sad', 'surprise'],\n",
              "       dtype='<U8'), array([ 960,  111, 1018, 1825, 1216, 1139,  797]))"
            ]
          },
          "metadata": {},
          "execution_count": 26
        }
      ]
    },
    {
      "cell_type": "code",
      "source": [
        "from sklearn import preprocessing\n",
        "le = preprocessing.LabelEncoder()\n",
        "labels = le.fit_transform(labels)\n",
        "#one hot encoding\n",
        "from tensorflow.keras.utils import to_categorical\n",
        "labels = to_categorical(labels)"
      ],
      "metadata": {
        "id": "NSJUM9VqIhNZ"
      },
      "execution_count": 29,
      "outputs": []
    },
    {
      "cell_type": "code",
      "source": [
        "labels[0]"
      ],
      "metadata": {
        "colab": {
          "base_uri": "https://localhost:8080/"
        },
        "id": "U1bB_vU4Ii2y",
        "outputId": "d3b4c340-3c5f-4bc6-ff9d-207753c7274c"
      },
      "execution_count": 30,
      "outputs": [
        {
          "output_type": "execute_result",
          "data": {
            "text/plain": [
              "array([0., 1., 0., 0., 0., 0., 0.], dtype=float32)"
            ]
          },
          "metadata": {},
          "execution_count": 30
        }
      ]
    },
    {
      "cell_type": "code",
      "source": [
        "vallabels = le.fit_transform(vallabels)\n",
        "vallabels = to_categorical(vallabels)"
      ],
      "metadata": {
        "id": "_DYac6BQI60Z"
      },
      "execution_count": 34,
      "outputs": []
    },
    {
      "cell_type": "code",
      "source": [
        "vallabels[0]"
      ],
      "metadata": {
        "colab": {
          "base_uri": "https://localhost:8080/"
        },
        "id": "WEmDhPLSJfgr",
        "outputId": "61800440-d2f1-4aa4-d182-0b0c40c9a15d"
      },
      "execution_count": 35,
      "outputs": [
        {
          "output_type": "execute_result",
          "data": {
            "text/plain": [
              "array([0., 1., 0., 0., 0., 0., 0.], dtype=float32)"
            ]
          },
          "metadata": {},
          "execution_count": 35
        }
      ]
    },
    {
      "cell_type": "markdown",
      "source": [
        "Model Definition"
      ],
      "metadata": {
        "id": "se-XSegFKPgg"
      }
    },
    {
      "cell_type": "code",
      "source": [
        "import tensorflow as tf"
      ],
      "metadata": {
        "id": "7nzjt74qLRq_"
      },
      "execution_count": 40,
      "outputs": []
    },
    {
      "cell_type": "code",
      "source": [
        "#Model 1\n",
        "from keras.layers import Input, Conv2D, MaxPooling2D, Flatten, Dense, Dropout\n",
        "from keras.models import Model\n",
        "from keras.optimizers import Adam\n",
        "\n",
        "# Model parameters\n",
        "num_classes = 7\n",
        "input_shape = (48,48,3)\n",
        "\n",
        "# Define the model architecture\n",
        "input_layer = Input(shape=input_shape)\n",
        "\n",
        "x = Conv2D(32, (3,3), activation='relu', padding='same')(input_layer)\n",
        "x = MaxPooling2D((2,2), padding='same')(x)\n",
        "\n",
        "x = Conv2D(64, (3,3), activation='relu', padding='same')(x)\n",
        "x = MaxPooling2D((2,2), padding='same')(x)\n",
        "\n",
        "x = Conv2D(128, (3,3), activation='relu', padding='same')(x)\n",
        "x = MaxPooling2D((2,2), padding='same')(x)\n",
        "\n",
        "x = Flatten()(x)\n",
        "\n",
        "x = Dense(512, activation='relu')(x)\n",
        "x = Dropout(0.5)(x)\n",
        "\n",
        "x = Dense(256, activation='relu')(x)\n",
        "x = Dropout(0.5)(x)\n",
        "\n",
        "output_layer = Dense(num_classes, activation='softmax')(x)\n",
        "\n",
        "# Compile the model\n",
        "model = Model(inputs=input_layer, outputs=output_layer)\n",
        "model.compile(\n",
        "  optimizer=tf.keras.optimizers.Adam(learning_rate=1e-5),\n",
        "  loss=\"categorical_crossentropy\",\n",
        "  metrics=[\"accuracy\"])"
      ],
      "metadata": {
        "id": "Xm7LPR3cKJJD"
      },
      "execution_count": 41,
      "outputs": []
    },
    {
      "cell_type": "code",
      "source": [
        "from keras.callbacks import EarlyStopping\n",
        "\n",
        "early_stopping = EarlyStopping(monitor='val_accuracy', mode='max', patience=25, verbose=1, restore_best_weights=True, min_delta=0.01, \n",
        "                              baseline=0.6)\n",
        "\n",
        "model.fit(data, labels, epochs=25, batch_size=300, validation_data=(valdata,vallabels), callbacks=[early_stopping])"
      ],
      "metadata": {
        "colab": {
          "base_uri": "https://localhost:8080/"
        },
        "id": "VRlvBev9KJkL",
        "outputId": "8e702065-1358-4a9e-eccc-ec7446384966"
      },
      "execution_count": 42,
      "outputs": [
        {
          "output_type": "stream",
          "name": "stdout",
          "text": [
            "Epoch 1/25\n",
            "97/97 [==============================] - 8s 35ms/step - loss: 1.8837 - accuracy: 0.2177 - val_loss: 1.8310 - val_accuracy: 0.2583\n",
            "Epoch 2/25\n",
            "97/97 [==============================] - 3s 27ms/step - loss: 1.8506 - accuracy: 0.2324 - val_loss: 1.8190 - val_accuracy: 0.2583\n",
            "Epoch 3/25\n",
            "97/97 [==============================] - 3s 29ms/step - loss: 1.8431 - accuracy: 0.2353 - val_loss: 1.8144 - val_accuracy: 0.2583\n",
            "Epoch 4/25\n",
            "97/97 [==============================] - 3s 27ms/step - loss: 1.8367 - accuracy: 0.2364 - val_loss: 1.8090 - val_accuracy: 0.2584\n",
            "Epoch 5/25\n",
            "97/97 [==============================] - 3s 27ms/step - loss: 1.8324 - accuracy: 0.2372 - val_loss: 1.8041 - val_accuracy: 0.2583\n",
            "Epoch 6/25\n",
            "97/97 [==============================] - 3s 27ms/step - loss: 1.8294 - accuracy: 0.2409 - val_loss: 1.7999 - val_accuracy: 0.2583\n",
            "Epoch 7/25\n",
            "97/97 [==============================] - 3s 28ms/step - loss: 1.8230 - accuracy: 0.2438 - val_loss: 1.7952 - val_accuracy: 0.2594\n",
            "Epoch 8/25\n",
            "97/97 [==============================] - 3s 28ms/step - loss: 1.8175 - accuracy: 0.2474 - val_loss: 1.7884 - val_accuracy: 0.2627\n",
            "Epoch 9/25\n",
            "97/97 [==============================] - 3s 28ms/step - loss: 1.8142 - accuracy: 0.2491 - val_loss: 1.7822 - val_accuracy: 0.2644\n",
            "Epoch 10/25\n",
            "97/97 [==============================] - 3s 28ms/step - loss: 1.8025 - accuracy: 0.2550 - val_loss: 1.7724 - val_accuracy: 0.2692\n",
            "Epoch 11/25\n",
            "97/97 [==============================] - 3s 27ms/step - loss: 1.7974 - accuracy: 0.2606 - val_loss: 1.7650 - val_accuracy: 0.2780\n",
            "Epoch 12/25\n",
            "97/97 [==============================] - 3s 29ms/step - loss: 1.7899 - accuracy: 0.2644 - val_loss: 1.7574 - val_accuracy: 0.2855\n",
            "Epoch 13/25\n",
            "97/97 [==============================] - 3s 29ms/step - loss: 1.7810 - accuracy: 0.2726 - val_loss: 1.7459 - val_accuracy: 0.2997\n",
            "Epoch 14/25\n",
            "97/97 [==============================] - 3s 27ms/step - loss: 1.7718 - accuracy: 0.2793 - val_loss: 1.7335 - val_accuracy: 0.3091\n",
            "Epoch 15/25\n",
            "97/97 [==============================] - 3s 28ms/step - loss: 1.7614 - accuracy: 0.2895 - val_loss: 1.7202 - val_accuracy: 0.3222\n",
            "Epoch 16/25\n",
            "97/97 [==============================] - 3s 27ms/step - loss: 1.7493 - accuracy: 0.2975 - val_loss: 1.7077 - val_accuracy: 0.3327\n",
            "Epoch 17/25\n",
            "97/97 [==============================] - 3s 30ms/step - loss: 1.7410 - accuracy: 0.3057 - val_loss: 1.6982 - val_accuracy: 0.3483\n",
            "Epoch 18/25\n",
            "97/97 [==============================] - 3s 27ms/step - loss: 1.7265 - accuracy: 0.3150 - val_loss: 1.6825 - val_accuracy: 0.3532\n",
            "Epoch 19/25\n",
            "97/97 [==============================] - 3s 27ms/step - loss: 1.7151 - accuracy: 0.3268 - val_loss: 1.6714 - val_accuracy: 0.3644\n",
            "Epoch 20/25\n",
            "97/97 [==============================] - 3s 26ms/step - loss: 1.7049 - accuracy: 0.3287 - val_loss: 1.6589 - val_accuracy: 0.3732\n",
            "Epoch 21/25\n",
            "97/97 [==============================] - 3s 29ms/step - loss: 1.6970 - accuracy: 0.3381 - val_loss: 1.6491 - val_accuracy: 0.3798\n",
            "Epoch 22/25\n",
            "97/97 [==============================] - 3s 30ms/step - loss: 1.6837 - accuracy: 0.3475 - val_loss: 1.6379 - val_accuracy: 0.3814\n",
            "Epoch 23/25\n",
            "97/97 [==============================] - 3s 31ms/step - loss: 1.6752 - accuracy: 0.3514 - val_loss: 1.6304 - val_accuracy: 0.3882\n",
            "Epoch 24/25\n",
            "97/97 [==============================] - 3s 27ms/step - loss: 1.6631 - accuracy: 0.3528 - val_loss: 1.6217 - val_accuracy: 0.3915\n",
            "Epoch 25/25\n",
            "95/97 [============================>.] - ETA: 0s - loss: 1.6564 - accuracy: 0.3614Restoring model weights from the end of the best epoch: 24.\n",
            "97/97 [==============================] - 3s 27ms/step - loss: 1.6568 - accuracy: 0.3609 - val_loss: 1.6155 - val_accuracy: 0.3890\n",
            "Epoch 25: early stopping\n"
          ]
        },
        {
          "output_type": "execute_result",
          "data": {
            "text/plain": [
              "<keras.callbacks.History at 0x7f4d5aa14850>"
            ]
          },
          "metadata": {},
          "execution_count": 42
        }
      ]
    },
    {
      "cell_type": "code",
      "source": [
        "model.save('FaceRecognition_model1.h5')"
      ],
      "metadata": {
        "id": "HZNNV-74L1Aq"
      },
      "execution_count": 43,
      "outputs": []
    },
    {
      "cell_type": "code",
      "source": [
        "#Transfer learning with RestNet50\n",
        "from tensorflow.keras.applications import ResNet50V2\n",
        "from tensorflow.keras.layers import Input\n",
        "feature_extractor_layer = ResNet50V2(weights=\"imagenet\", include_top=False,\n",
        "\tinput_tensor=Input(shape=(IMG_SIZE,IMG_SIZE,CHANNELS)))\n",
        "#Neural networks start from bottom to top. include_top=false will remove the bottom layers\n"
      ],
      "metadata": {
        "colab": {
          "base_uri": "https://localhost:8080/"
        },
        "id": "0XMr2YpsMsnL",
        "outputId": "44a71f87-aac7-4989-f32e-fe47db2edf02"
      },
      "execution_count": 51,
      "outputs": [
        {
          "output_type": "stream",
          "name": "stdout",
          "text": [
            "Downloading data from https://storage.googleapis.com/tensorflow/keras-applications/resnet/resnet50v2_weights_tf_dim_ordering_tf_kernels_notop.h5\n",
            "94668760/94668760 [==============================] - 5s 0us/step\n"
          ]
        }
      ]
    },
    {
      "cell_type": "code",
      "source": [
        "feature_extractor_layer.trainable = False"
      ],
      "metadata": {
        "id": "7_JCjOw5Nj5B"
      },
      "execution_count": 52,
      "outputs": []
    },
    {
      "cell_type": "code",
      "source": [
        "import tensorflow as tf\n",
        "from tensorflow.keras import layers\n",
        "from tensorflow.keras.optimizers import Adam\n",
        "\n",
        "model = tf.keras.Sequential()\n",
        "model.add(feature_extractor_layer)\n",
        "model.add(layers.Flatten(name=\"flatten\"))\n",
        "model.add(layers.Dense(1024, activation='relu', name='hidden_layer'))\n",
        "model.add(layers.Dropout(0.5))#Dropping 50% to avoid overfitting\n",
        "model.add(layers.Dense(7, activation='softmax', name='output'))\n",
        "model.summary()\n"
      ],
      "metadata": {
        "colab": {
          "base_uri": "https://localhost:8080/"
        },
        "id": "-s7tPA8GNm_K",
        "outputId": "58a3e8af-5a20-4336-e90c-f7009ec0d32b"
      },
      "execution_count": 64,
      "outputs": [
        {
          "output_type": "stream",
          "name": "stdout",
          "text": [
            "Model: \"sequential_5\"\n",
            "_________________________________________________________________\n",
            " Layer (type)                Output Shape              Param #   \n",
            "=================================================================\n",
            " resnet50v2 (Functional)     (None, 2, 2, 2048)        23564800  \n",
            "                                                                 \n",
            " flatten (Flatten)           (None, 8192)              0         \n",
            "                                                                 \n",
            " hidden_layer (Dense)        (None, 1024)              8389632   \n",
            "                                                                 \n",
            " dropout_22 (Dropout)        (None, 1024)              0         \n",
            "                                                                 \n",
            " output (Dense)              (None, 7)                 7175      \n",
            "                                                                 \n",
            "=================================================================\n",
            "Total params: 31,961,607\n",
            "Trainable params: 8,396,807\n",
            "Non-trainable params: 23,564,800\n",
            "_________________________________________________________________\n"
          ]
        }
      ]
    },
    {
      "cell_type": "code",
      "source": [
        "model.compile(\n",
        "  optimizer=tf.keras.optimizers.Adam(learning_rate=1e-5),\n",
        "  loss=\"categorical_crossentropy\",\n",
        "  metrics=[\"accuracy\"])"
      ],
      "metadata": {
        "id": "3406n2BTNtxC"
      },
      "execution_count": 65,
      "outputs": []
    },
    {
      "cell_type": "code",
      "source": [
        "#Data augmentation. Add a few impurities\n",
        "from tensorflow.keras.preprocessing.image import ImageDataGenerator\n",
        "aug = ImageDataGenerator(\n",
        "\trotation_range=20,\n",
        "\tzoom_range=0.15,\n",
        "\twidth_shift_range=0.2,\n",
        "\theight_shift_range=0.2,\n",
        "\tshear_range=0.15,\n",
        "\thorizontal_flip=True,\n",
        "\tfill_mode=\"nearest\")"
      ],
      "metadata": {
        "id": "RygrsYq2Nv17"
      },
      "execution_count": 55,
      "outputs": []
    },
    {
      "cell_type": "code",
      "source": [
        "history = model.fit(data, labels,\n",
        "                    validation_data=(valdata,vallabels),\n",
        "                    batch_size=300,\n",
        "                    epochs=50,\n",
        "                    verbose=1)"
      ],
      "metadata": {
        "colab": {
          "base_uri": "https://localhost:8080/"
        },
        "id": "3_lMU1GRNyIL",
        "outputId": "33305254-7ae2-49c8-c490-4c7ebd45bd03"
      },
      "execution_count": 66,
      "outputs": [
        {
          "output_type": "stream",
          "name": "stdout",
          "text": [
            "Epoch 1/50\n",
            "97/97 [==============================] - 14s 116ms/step - loss: 3.7092 - accuracy: 0.2059 - val_loss: 2.0326 - val_accuracy: 0.3036\n",
            "Epoch 2/50\n",
            "97/97 [==============================] - 9s 90ms/step - loss: 2.9104 - accuracy: 0.2493 - val_loss: 1.8681 - val_accuracy: 0.3309\n",
            "Epoch 3/50\n",
            "97/97 [==============================] - 9s 88ms/step - loss: 2.4834 - accuracy: 0.2737 - val_loss: 1.7696 - val_accuracy: 0.3442\n",
            "Epoch 4/50\n",
            "97/97 [==============================] - 8s 88ms/step - loss: 2.2000 - accuracy: 0.2967 - val_loss: 1.7112 - val_accuracy: 0.3592\n",
            "Epoch 5/50\n",
            "97/97 [==============================] - 7s 75ms/step - loss: 2.0133 - accuracy: 0.3132 - val_loss: 1.6724 - val_accuracy: 0.3704\n",
            "Epoch 6/50\n",
            "97/97 [==============================] - 7s 74ms/step - loss: 1.8910 - accuracy: 0.3331 - val_loss: 1.6430 - val_accuracy: 0.3766\n",
            "Epoch 7/50\n",
            "97/97 [==============================] - 7s 75ms/step - loss: 1.7894 - accuracy: 0.3473 - val_loss: 1.6229 - val_accuracy: 0.3849\n",
            "Epoch 8/50\n",
            "97/97 [==============================] - 7s 75ms/step - loss: 1.7277 - accuracy: 0.3584 - val_loss: 1.6105 - val_accuracy: 0.3879\n",
            "Epoch 9/50\n",
            "97/97 [==============================] - 8s 87ms/step - loss: 1.6827 - accuracy: 0.3723 - val_loss: 1.5975 - val_accuracy: 0.3922\n",
            "Epoch 10/50\n",
            "97/97 [==============================] - 7s 75ms/step - loss: 1.6395 - accuracy: 0.3842 - val_loss: 1.5863 - val_accuracy: 0.3973\n",
            "Epoch 11/50\n",
            "97/97 [==============================] - 8s 87ms/step - loss: 1.5994 - accuracy: 0.3971 - val_loss: 1.5768 - val_accuracy: 0.4019\n",
            "Epoch 12/50\n",
            "97/97 [==============================] - 7s 75ms/step - loss: 1.5760 - accuracy: 0.4033 - val_loss: 1.5689 - val_accuracy: 0.4076\n",
            "Epoch 13/50\n",
            "97/97 [==============================] - 9s 88ms/step - loss: 1.5543 - accuracy: 0.4109 - val_loss: 1.5615 - val_accuracy: 0.4066\n",
            "Epoch 14/50\n",
            "97/97 [==============================] - 8s 87ms/step - loss: 1.5231 - accuracy: 0.4227 - val_loss: 1.5556 - val_accuracy: 0.4090\n",
            "Epoch 15/50\n",
            "97/97 [==============================] - 7s 75ms/step - loss: 1.4981 - accuracy: 0.4321 - val_loss: 1.5487 - val_accuracy: 0.4138\n",
            "Epoch 16/50\n",
            "97/97 [==============================] - 8s 88ms/step - loss: 1.4833 - accuracy: 0.4388 - val_loss: 1.5413 - val_accuracy: 0.4190\n",
            "Epoch 17/50\n",
            "97/97 [==============================] - 8s 87ms/step - loss: 1.4583 - accuracy: 0.4507 - val_loss: 1.5357 - val_accuracy: 0.4196\n",
            "Epoch 18/50\n",
            "97/97 [==============================] - 8s 87ms/step - loss: 1.4419 - accuracy: 0.4538 - val_loss: 1.5307 - val_accuracy: 0.4220\n",
            "Epoch 19/50\n",
            "97/97 [==============================] - 7s 75ms/step - loss: 1.4210 - accuracy: 0.4603 - val_loss: 1.5262 - val_accuracy: 0.4237\n",
            "Epoch 20/50\n",
            "97/97 [==============================] - 7s 75ms/step - loss: 1.3954 - accuracy: 0.4727 - val_loss: 1.5210 - val_accuracy: 0.4261\n",
            "Epoch 21/50\n",
            "97/97 [==============================] - 8s 88ms/step - loss: 1.3894 - accuracy: 0.4745 - val_loss: 1.5164 - val_accuracy: 0.4299\n",
            "Epoch 22/50\n",
            "97/97 [==============================] - 9s 88ms/step - loss: 1.3690 - accuracy: 0.4848 - val_loss: 1.5121 - val_accuracy: 0.4308\n",
            "Epoch 23/50\n",
            "97/97 [==============================] - 8s 87ms/step - loss: 1.3511 - accuracy: 0.4915 - val_loss: 1.5071 - val_accuracy: 0.4326\n",
            "Epoch 24/50\n",
            "97/97 [==============================] - 8s 87ms/step - loss: 1.3389 - accuracy: 0.4977 - val_loss: 1.5034 - val_accuracy: 0.4362\n",
            "Epoch 25/50\n",
            "97/97 [==============================] - 9s 88ms/step - loss: 1.3197 - accuracy: 0.5060 - val_loss: 1.4994 - val_accuracy: 0.4400\n",
            "Epoch 26/50\n",
            "97/97 [==============================] - 8s 88ms/step - loss: 1.3058 - accuracy: 0.5124 - val_loss: 1.4955 - val_accuracy: 0.4393\n",
            "Epoch 27/50\n",
            "97/97 [==============================] - 8s 87ms/step - loss: 1.2854 - accuracy: 0.5190 - val_loss: 1.4925 - val_accuracy: 0.4400\n",
            "Epoch 28/50\n",
            "97/97 [==============================] - 7s 75ms/step - loss: 1.2734 - accuracy: 0.5254 - val_loss: 1.4898 - val_accuracy: 0.4432\n",
            "Epoch 29/50\n",
            "97/97 [==============================] - 9s 88ms/step - loss: 1.2521 - accuracy: 0.5361 - val_loss: 1.4862 - val_accuracy: 0.4449\n",
            "Epoch 30/50\n",
            "97/97 [==============================] - 7s 75ms/step - loss: 1.2491 - accuracy: 0.5365 - val_loss: 1.4843 - val_accuracy: 0.4451\n",
            "Epoch 31/50\n",
            "97/97 [==============================] - 9s 88ms/step - loss: 1.2277 - accuracy: 0.5467 - val_loss: 1.4809 - val_accuracy: 0.4491\n",
            "Epoch 32/50\n",
            "97/97 [==============================] - 7s 76ms/step - loss: 1.2151 - accuracy: 0.5504 - val_loss: 1.4776 - val_accuracy: 0.4466\n",
            "Epoch 33/50\n",
            "97/97 [==============================] - 8s 87ms/step - loss: 1.2108 - accuracy: 0.5535 - val_loss: 1.4760 - val_accuracy: 0.4489\n",
            "Epoch 34/50\n",
            "97/97 [==============================] - 8s 88ms/step - loss: 1.1868 - accuracy: 0.5622 - val_loss: 1.4717 - val_accuracy: 0.4503\n",
            "Epoch 35/50\n",
            "97/97 [==============================] - 7s 75ms/step - loss: 1.1788 - accuracy: 0.5702 - val_loss: 1.4705 - val_accuracy: 0.4517\n",
            "Epoch 36/50\n",
            "97/97 [==============================] - 8s 87ms/step - loss: 1.1619 - accuracy: 0.5740 - val_loss: 1.4674 - val_accuracy: 0.4526\n",
            "Epoch 37/50\n",
            "97/97 [==============================] - 9s 88ms/step - loss: 1.1487 - accuracy: 0.5792 - val_loss: 1.4652 - val_accuracy: 0.4543\n",
            "Epoch 38/50\n",
            "97/97 [==============================] - 9s 88ms/step - loss: 1.1356 - accuracy: 0.5863 - val_loss: 1.4616 - val_accuracy: 0.4583\n",
            "Epoch 39/50\n",
            "97/97 [==============================] - 8s 87ms/step - loss: 1.1252 - accuracy: 0.5912 - val_loss: 1.4600 - val_accuracy: 0.4568\n",
            "Epoch 40/50\n",
            "97/97 [==============================] - 7s 75ms/step - loss: 1.1145 - accuracy: 0.5963 - val_loss: 1.4583 - val_accuracy: 0.4591\n",
            "Epoch 41/50\n",
            "97/97 [==============================] - 9s 88ms/step - loss: 1.1024 - accuracy: 0.6015 - val_loss: 1.4560 - val_accuracy: 0.4621\n",
            "Epoch 42/50\n",
            "97/97 [==============================] - 7s 74ms/step - loss: 1.0921 - accuracy: 0.6090 - val_loss: 1.4529 - val_accuracy: 0.4628\n",
            "Epoch 43/50\n",
            "97/97 [==============================] - 8s 88ms/step - loss: 1.0786 - accuracy: 0.6131 - val_loss: 1.4515 - val_accuracy: 0.4635\n",
            "Epoch 44/50\n",
            "97/97 [==============================] - 9s 88ms/step - loss: 1.0662 - accuracy: 0.6176 - val_loss: 1.4497 - val_accuracy: 0.4631\n",
            "Epoch 45/50\n",
            "97/97 [==============================] - 7s 74ms/step - loss: 1.0566 - accuracy: 0.6223 - val_loss: 1.4477 - val_accuracy: 0.4633\n",
            "Epoch 46/50\n",
            "97/97 [==============================] - 8s 88ms/step - loss: 1.0409 - accuracy: 0.6299 - val_loss: 1.4454 - val_accuracy: 0.4648\n",
            "Epoch 47/50\n",
            "97/97 [==============================] - 9s 89ms/step - loss: 1.0340 - accuracy: 0.6312 - val_loss: 1.4456 - val_accuracy: 0.4666\n",
            "Epoch 48/50\n",
            "97/97 [==============================] - 7s 75ms/step - loss: 1.0232 - accuracy: 0.6391 - val_loss: 1.4438 - val_accuracy: 0.4697\n",
            "Epoch 49/50\n",
            "97/97 [==============================] - 9s 88ms/step - loss: 1.0140 - accuracy: 0.6415 - val_loss: 1.4424 - val_accuracy: 0.4693\n",
            "Epoch 50/50\n",
            "97/97 [==============================] - 9s 89ms/step - loss: 1.0018 - accuracy: 0.6462 - val_loss: 1.4419 - val_accuracy: 0.4706\n"
          ]
        }
      ]
    },
    {
      "cell_type": "code",
      "source": [
        "model.save('FaceRecognition_model2.h5', save_format=\"h5\")"
      ],
      "metadata": {
        "id": "_MRaovTjS3Qg"
      },
      "execution_count": 67,
      "outputs": []
    }
  ]
}